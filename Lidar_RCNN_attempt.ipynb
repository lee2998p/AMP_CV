{
  "nbformat": 4,
  "nbformat_minor": 0,
  "metadata": {
    "colab": {
      "name": "Lidar_RCNN_attempt.ipynb",
      "provenance": []
    },
    "kernelspec": {
      "name": "python3",
      "display_name": "Python 3"
    },
    "language_info": {
      "name": "python"
    },
    "accelerator": "GPU"
  },
  "cells": [
    {
      "cell_type": "code",
      "source": [
        "from google.colab import drive\n",
        "drive.mount('/content/drive')"
      ],
      "metadata": {
        "id": "aWatpzUHyhUs",
        "colab": {
          "base_uri": "https://localhost:8080/"
        },
        "outputId": "7464a0c5-4429-470c-a12d-527fa92dad72"
      },
      "execution_count": null,
      "outputs": [
        {
          "output_type": "stream",
          "name": "stdout",
          "text": [
            "Mounted at /content/drive\n"
          ]
        }
      ]
    },
    {
      "cell_type": "code",
      "source": [
        "%cd drive/MyDrive/Grade 4-2/VIP Senior Design 2/AMP ML Team/2022 Spring"
      ],
      "metadata": {
        "colab": {
          "base_uri": "https://localhost:8080/"
        },
        "id": "boaEsznozmUw",
        "outputId": "eead40f2-aad5-4bfc-ae7e-7d654e8c65c7"
      },
      "execution_count": null,
      "outputs": [
        {
          "output_type": "stream",
          "name": "stdout",
          "text": [
            "[Errno 2] No such file or directory: 'drive/MyDrive/Grade 4-2/VIP Senior Design 2/AMP ML Team/2022 Spring'\n",
            "/content\n"
          ]
        }
      ]
    },
    {
      "cell_type": "code",
      "source": [
        "%cd LiDAR_RCNN/\n",
        "!pip install -r requirements.txt"
      ],
      "metadata": {
        "colab": {
          "base_uri": "https://localhost:8080/"
        },
        "id": "jzrXsnJK0EgP",
        "outputId": "75abc209-db9a-4e9d-e805-1a7a7dc87dee"
      },
      "execution_count": null,
      "outputs": [
        {
          "output_type": "stream",
          "name": "stdout",
          "text": [
            "/content/drive/MyDrive/Grade 4-2/VIP Senior Design 2/AMP ML Team/2022 Spring/LiDAR_RCNN\n",
            "Requirement already satisfied: numpy in /usr/local/lib/python3.7/dist-packages (from -r requirements.txt (line 1)) (1.21.5)\n",
            "Requirement already satisfied: torch>=1.5 in /usr/local/lib/python3.7/dist-packages (from -r requirements.txt (line 2)) (1.10.0+cu111)\n",
            "Collecting tensorboardX\n",
            "  Downloading tensorboardX-2.5-py2.py3-none-any.whl (125 kB)\n",
            "\u001b[K     |████████████████████████████████| 125 kB 5.1 MB/s \n",
            "\u001b[?25hRequirement already satisfied: easydict in /usr/local/lib/python3.7/dist-packages (from -r requirements.txt (line 4)) (1.9)\n",
            "Requirement already satisfied: pyyaml in /usr/local/lib/python3.7/dist-packages (from -r requirements.txt (line 5)) (3.13)\n",
            "Requirement already satisfied: tqdm in /usr/local/lib/python3.7/dist-packages (from -r requirements.txt (line 6)) (4.63.0)\n",
            "Collecting tfrecord\n",
            "  Downloading tfrecord-1.14.1.tar.gz (15 kB)\n",
            "Requirement already satisfied: typing-extensions in /usr/local/lib/python3.7/dist-packages (from torch>=1.5->-r requirements.txt (line 2)) (3.10.0.2)\n",
            "Requirement already satisfied: protobuf>=3.8.0 in /usr/local/lib/python3.7/dist-packages (from tensorboardX->-r requirements.txt (line 3)) (3.17.3)\n",
            "Requirement already satisfied: six in /usr/local/lib/python3.7/dist-packages (from tensorboardX->-r requirements.txt (line 3)) (1.15.0)\n",
            "Collecting crc32c\n",
            "  Downloading crc32c-2.2.post0-cp37-cp37m-manylinux2010_x86_64.whl (49 kB)\n",
            "\u001b[K     |████████████████████████████████| 49 kB 5.9 MB/s \n",
            "\u001b[?25hBuilding wheels for collected packages: tfrecord\n",
            "  Building wheel for tfrecord (setup.py) ... \u001b[?25l\u001b[?25hdone\n",
            "  Created wheel for tfrecord: filename=tfrecord-1.14.1-py3-none-any.whl size=15652 sha256=739b98bdf674822aebe6bf83be6310a420930be1a905c9a8f6d320cde3a19c73\n",
            "  Stored in directory: /root/.cache/pip/wheels/07/63/59/2a382bd2e3051f622bf8742e79f2641d78b29523680f57bf74\n",
            "Successfully built tfrecord\n",
            "Installing collected packages: crc32c, tfrecord, tensorboardX\n",
            "Successfully installed crc32c-2.2.post0 tensorboardX-2.5 tfrecord-1.14.1\n"
          ]
        }
      ]
    },
    {
      "cell_type": "code",
      "source": [
        "!apt-get install ninja-build libeigen3-dev"
      ],
      "metadata": {
        "colab": {
          "base_uri": "https://localhost:8080/"
        },
        "id": "pb6uy4J2zszf",
        "outputId": "e1885ee9-d0cc-4a77-8157-143af5d8eb8f"
      },
      "execution_count": null,
      "outputs": [
        {
          "output_type": "stream",
          "name": "stdout",
          "text": [
            "Reading package lists... Done\n",
            "Building dependency tree       \n",
            "Reading state information... Done\n",
            "Suggested packages:\n",
            "  libeigen3-doc libmrpt-dev\n",
            "The following NEW packages will be installed:\n",
            "  libeigen3-dev ninja-build\n",
            "0 upgraded, 2 newly installed, 0 to remove and 39 not upgraded.\n",
            "Need to get 903 kB of archives.\n",
            "After this operation, 7,424 kB of additional disk space will be used.\n",
            "Get:1 http://archive.ubuntu.com/ubuntu bionic/universe amd64 ninja-build amd64 1.8.2-1 [93.3 kB]\n",
            "Get:2 http://archive.ubuntu.com/ubuntu bionic/universe amd64 libeigen3-dev all 3.3.4-4 [810 kB]\n",
            "Fetched 903 kB in 1s (932 kB/s)\n",
            "Selecting previously unselected package ninja-build.\n",
            "(Reading database ... 156210 files and directories currently installed.)\n",
            "Preparing to unpack .../ninja-build_1.8.2-1_amd64.deb ...\n",
            "Unpacking ninja-build (1.8.2-1) ...\n",
            "Selecting previously unselected package libeigen3-dev.\n",
            "Preparing to unpack .../libeigen3-dev_3.3.4-4_all.deb ...\n",
            "Unpacking libeigen3-dev (3.3.4-4) ...\n",
            "Setting up libeigen3-dev (3.3.4-4) ...\n",
            "Setting up ninja-build (1.8.2-1) ...\n",
            "Processing triggers for man-db (2.8.3-2ubuntu0.1) ...\n"
          ]
        }
      ]
    },
    {
      "cell_type": "code",
      "source": [
        "%cd pybind11"
      ],
      "metadata": {
        "colab": {
          "base_uri": "https://localhost:8080/"
        },
        "id": "q5prFrRbYeCX",
        "outputId": "af3380f3-39d8-4e49-dd7d-4ae311d906b7"
      },
      "execution_count": null,
      "outputs": [
        {
          "output_type": "stream",
          "name": "stdout",
          "text": [
            "/content/drive/MyDrive/Grade 4-2/VIP Senior Design 2/AMP ML Team/2022 Spring/LiDAR_RCNN/pybind11\n"
          ]
        }
      ]
    },
    {
      "cell_type": "code",
      "source": [
        "%cd build"
      ],
      "metadata": {
        "colab": {
          "base_uri": "https://localhost:8080/"
        },
        "id": "u7dWcez0Y1Jt",
        "outputId": "fb35ee63-47db-4ddc-8a60-f56d7ee7769f"
      },
      "execution_count": null,
      "outputs": [
        {
          "output_type": "stream",
          "name": "stdout",
          "text": [
            "/content/drive/MyDrive/Grade 4-2/VIP Senior Design 2/AMP ML Team/2022 Spring/LiDAR_RCNN/pybind11/build\n"
          ]
        }
      ]
    },
    {
      "cell_type": "code",
      "source": [
        "!cmake .. && make -j "
      ],
      "metadata": {
        "colab": {
          "base_uri": "https://localhost:8080/"
        },
        "id": "pOT4FEVSY2jh",
        "outputId": "657600ea-0ec0-4b0e-bab7-a97bf8cd20c7"
      },
      "execution_count": null,
      "outputs": [
        {
          "output_type": "stream",
          "name": "stdout",
          "text": [
            "-- pybind11 v2.10.0 dev1\n",
            "-- CMake 3.12.0\n",
            "-- PYTHON 3.6.9\n",
            "-- pybind11::lto enabled\n",
            "-- pybind11::thin_lto enabled\n",
            "-- Building tests with Eigen v3.3.4\n",
            "-- Boost version: 1.65.1\n",
            "CMake Warning at tests/CMakeLists.txt:347 (message):\n",
            "  Unknown C++17 compiler - not passing -lstdc++fs\n",
            "\n",
            "\n",
            "CMake Warning at tools/pybind11Common.cmake:227 (message):\n",
            "  Missing: pytest 3.1\n",
            "\n",
            "  Try: /usr/bin/python3.6 -m pip install pytest\n",
            "Call Stack (most recent call first):\n",
            "  tests/CMakeLists.txt:475 (pybind11_find_import)\n",
            "\n",
            "\n",
            "-- Catch not detected. Interpreter tests will be skipped. Install Catch headers manually or use `cmake -DDOWNLOAD_CATCH=ON` to fetch them automatically.\n",
            "-- Configuring done\n",
            "-- Generating done\n",
            "-- Build files have been written to: /content/drive/MyDrive/Grade 4-2/VIP Senior Design 2/AMP ML Team/2022 Spring/LiDAR_RCNN/pybind11/build\n",
            "[  2%] Built target pybind11_cross_module_tests\n",
            "[  4%] Built target cross_module_gil_utils\n",
            "[ 95%] Built target pybind11_tests\n"
          ]
        }
      ]
    },
    {
      "cell_type": "code",
      "source": [
        "!sudo make install"
      ],
      "metadata": {
        "colab": {
          "base_uri": "https://localhost:8080/"
        },
        "id": "RdxXwiYz6-yv",
        "outputId": "67aaefd3-2130-41ff-b6a0-0261f935e073"
      },
      "execution_count": null,
      "outputs": [
        {
          "output_type": "stream",
          "name": "stdout",
          "text": [
            "[  0%] Built target pybind11_cross_module_tests\n",
            "[ 91%] Built target pybind11_tests\n",
            "[ 95%] Built target cross_module_gil_utils\n",
            "\u001b[36mInstall the project...\u001b[0m\n",
            "-- Install configuration: \"MinSizeRel\"\n",
            "-- Installing: /usr/local/include/pybind11\n",
            "-- Installing: /usr/local/include/pybind11/attr.h\n",
            "-- Installing: /usr/local/include/pybind11/buffer_info.h\n",
            "-- Installing: /usr/local/include/pybind11/cast.h\n",
            "-- Installing: /usr/local/include/pybind11/chrono.h\n",
            "-- Installing: /usr/local/include/pybind11/common.h\n",
            "-- Installing: /usr/local/include/pybind11/complex.h\n",
            "-- Installing: /usr/local/include/pybind11/detail\n",
            "-- Installing: /usr/local/include/pybind11/detail/class.h\n",
            "-- Installing: /usr/local/include/pybind11/detail/common.h\n",
            "-- Installing: /usr/local/include/pybind11/detail/descr.h\n",
            "-- Installing: /usr/local/include/pybind11/detail/init.h\n",
            "-- Installing: /usr/local/include/pybind11/detail/internals.h\n",
            "-- Installing: /usr/local/include/pybind11/detail/type_caster_base.h\n",
            "-- Installing: /usr/local/include/pybind11/detail/typeid.h\n",
            "-- Installing: /usr/local/include/pybind11/eigen.h\n",
            "-- Installing: /usr/local/include/pybind11/embed.h\n",
            "-- Installing: /usr/local/include/pybind11/eval.h\n",
            "-- Installing: /usr/local/include/pybind11/functional.h\n",
            "-- Installing: /usr/local/include/pybind11/gil.h\n",
            "-- Installing: /usr/local/include/pybind11/iostream.h\n",
            "-- Installing: /usr/local/include/pybind11/numpy.h\n",
            "-- Installing: /usr/local/include/pybind11/operators.h\n",
            "-- Installing: /usr/local/include/pybind11/options.h\n",
            "-- Installing: /usr/local/include/pybind11/pybind11.h\n",
            "-- Installing: /usr/local/include/pybind11/pytypes.h\n",
            "-- Installing: /usr/local/include/pybind11/stl.h\n",
            "-- Installing: /usr/local/include/pybind11/stl\n",
            "-- Installing: /usr/local/include/pybind11/stl/filesystem.h\n",
            "-- Installing: /usr/local/include/pybind11/stl_bind.h\n",
            "-- Installing: /usr/local/share/cmake/pybind11/pybind11Config.cmake\n",
            "-- Installing: /usr/local/share/cmake/pybind11/pybind11ConfigVersion.cmake\n",
            "-- Installing: /usr/local/share/cmake/pybind11/FindPythonLibsNew.cmake\n",
            "-- Installing: /usr/local/share/cmake/pybind11/pybind11Common.cmake\n",
            "-- Installing: /usr/local/share/cmake/pybind11/pybind11Tools.cmake\n",
            "-- Installing: /usr/local/share/cmake/pybind11/pybind11NewTools.cmake\n",
            "-- Installing: /usr/local/share/cmake/pybind11/pybind11Targets.cmake\n"
          ]
        }
      ]
    },
    {
      "cell_type": "code",
      "source": [
        "%cd .."
      ],
      "metadata": {
        "colab": {
          "base_uri": "https://localhost:8080/"
        },
        "id": "t08hfkndaKZM",
        "outputId": "145bc671-9918-4792-df77-03cb35ff5014"
      },
      "execution_count": null,
      "outputs": [
        {
          "output_type": "stream",
          "name": "stdout",
          "text": [
            "/content/drive/MyDrive/Grade 4-2/VIP Senior Design 2/AMP ML Team/2022 Spring/LiDAR_RCNN/pybind11\n"
          ]
        }
      ]
    },
    {
      "cell_type": "code",
      "source": [
        "%cd .."
      ],
      "metadata": {
        "colab": {
          "base_uri": "https://localhost:8080/"
        },
        "id": "1b4b2Il4aMoU",
        "outputId": "976cee94-c0e9-4679-d6a7-ae2c4c23f00a"
      },
      "execution_count": null,
      "outputs": [
        {
          "output_type": "stream",
          "name": "stdout",
          "text": [
            "/content/drive/MyDrive/Grade 4-2/VIP Senior Design 2/AMP ML Team/2022 Spring/LiDAR_RCNN\n"
          ]
        }
      ]
    },
    {
      "cell_type": "code",
      "source": [
        "!python setup.py develop --user"
      ],
      "metadata": {
        "colab": {
          "base_uri": "https://localhost:8080/"
        },
        "id": "TkyGyK960MBP",
        "outputId": "1e862c0e-f357-4e68-ed0e-df208dfcda62"
      },
      "execution_count": null,
      "outputs": [
        {
          "output_type": "stream",
          "name": "stdout",
          "text": [
            "running develop\n",
            "running egg_info\n",
            "writing src/lidar_rcnn.egg-info/PKG-INFO\n",
            "writing dependency_links to src/lidar_rcnn.egg-info/dependency_links.txt\n",
            "writing top-level names to src/lidar_rcnn.egg-info/top_level.txt\n",
            "writing manifest file 'src/lidar_rcnn.egg-info/SOURCES.txt'\n",
            "running build_ext\n",
            "-- Found pybind11: /usr/local/include (found version \"2.10.0dev1\")\n",
            "-- Configuring done\n",
            "-- Generating done\n",
            "-- Build files have been written to: /content/drive/MyDrive/Grade 4-2/VIP Senior Design 2/AMP ML Team/2022 Spring/LiDAR_RCNN/build/temp.linux-x86_64-3.7\n",
            "ninja: no work to do.\n",
            "copying build/lib.linux-x86_64-3.7/lidar_bbox_tools_c.cpython-37m-x86_64-linux-gnu.so -> src\n",
            "Creating /root/.local/lib/python3.7/site-packages/lidar-rcnn.egg-link (link to src)\n",
            "Adding lidar-rcnn 0.1.0 to easy-install.pth file\n",
            "\n",
            "Installed /content/drive/MyDrive/Grade 4-2/VIP Senior Design 2/AMP ML Team/2022 Spring/LiDAR_RCNN/src\n",
            "Processing dependencies for lidar-rcnn==0.1.0\n",
            "Finished processing dependencies for lidar-rcnn==0.1.0\n"
          ]
        }
      ]
    },
    {
      "cell_type": "code",
      "source": [
        "%cd src/LiDAR_RCNN/ops/iou3d/"
      ],
      "metadata": {
        "id": "v80vU1Ih0Qmi",
        "colab": {
          "base_uri": "https://localhost:8080/"
        },
        "outputId": "84ab53d9-9488-48da-d161-2d394bc83d58"
      },
      "execution_count": null,
      "outputs": [
        {
          "output_type": "stream",
          "name": "stdout",
          "text": [
            "/content/drive/MyDrive/Grade 4-2/VIP Senior Design 2/AMP ML Team/2022 Spring/LiDAR_RCNN/src/LiDAR_RCNN/ops/iou3d\n"
          ]
        }
      ]
    },
    {
      "cell_type": "code",
      "source": [
        "!python setup.py build_ext --inplace"
      ],
      "metadata": {
        "colab": {
          "base_uri": "https://localhost:8080/"
        },
        "id": "rqAwS9rS7vKf",
        "outputId": "f5188a45-cf37-479a-de77-b7a5bf4105f3"
      },
      "execution_count": null,
      "outputs": [
        {
          "output_type": "stream",
          "name": "stdout",
          "text": [
            "running build_ext\n",
            "building 'iou3d_cuda' extension\n",
            "Emitting ninja build file /content/drive/MyDrive/Grade 4-2/VIP Senior Design 2/AMP ML Team/2022 Spring/LiDAR_RCNN/src/LiDAR_RCNN/ops/iou3d/build/temp.linux-x86_64-3.7/build.ninja...\n",
            "Compiling objects...\n",
            "Allowing ninja to set a default number of workers... (overridable by setting the environment variable MAX_JOBS=N)\n",
            "[1/3] /usr/local/cuda/bin/nvcc  -I/usr/local/lib/python3.7/dist-packages/torch/include -I/usr/local/lib/python3.7/dist-packages/torch/include/torch/csrc/api/include -I/usr/local/lib/python3.7/dist-packages/torch/include/TH -I/usr/local/lib/python3.7/dist-packages/torch/include/THC -I/usr/local/cuda/include -I/usr/include/python3.7m -c -c '/content/drive/MyDrive/Grade 4-2/VIP Senior Design 2/AMP ML Team/2022 Spring/LiDAR_RCNN/src/LiDAR_RCNN/ops/iou3d/src/iou3d_kernel.cu' -o '/content/drive/MyDrive/Grade 4-2/VIP Senior Design 2/AMP ML Team/2022 Spring/LiDAR_RCNN/src/LiDAR_RCNN/ops/iou3d/build/temp.linux-x86_64-3.7/src/iou3d_kernel.o' -D__CUDA_NO_HALF_OPERATORS__ -D__CUDA_NO_HALF_CONVERSIONS__ -D__CUDA_NO_BFLOAT16_CONVERSIONS__ -D__CUDA_NO_HALF2_OPERATORS__ --expt-relaxed-constexpr --compiler-options ''\"'\"'-fPIC'\"'\"'' -O2 -DTORCH_API_INCLUDE_EXTENSION_H '-DPYBIND11_COMPILER_TYPE=\"_gcc\"' '-DPYBIND11_STDLIB=\"_libstdcpp\"' '-DPYBIND11_BUILD_ABI=\"_cxxabi1011\"' -DTORCH_EXTENSION_NAME=iou3d_cuda -D_GLIBCXX_USE_CXX11_ABI=0 -gencode=arch=compute_75,code=compute_75 -gencode=arch=compute_75,code=sm_75 -std=c++14\n",
            "[2/3] c++ -MMD -MF '/content/drive/MyDrive/Grade 4-2/VIP Senior Design 2/AMP ML Team/2022 Spring/LiDAR_RCNN/src/LiDAR_RCNN/ops/iou3d/build/temp.linux-x86_64-3.7/src/iou3d.o'.d -pthread -Wno-unused-result -Wsign-compare -DNDEBUG -g -fwrapv -O2 -Wall -g -fdebug-prefix-map=/build/python3.7-dIfpci/python3.7-3.7.13=. -fstack-protector-strong -Wformat -Werror=format-security -g -fdebug-prefix-map=/build/python3.7-dIfpci/python3.7-3.7.13=. -fstack-protector-strong -Wformat -Werror=format-security -Wdate-time -D_FORTIFY_SOURCE=2 -fPIC -I/usr/local/lib/python3.7/dist-packages/torch/include -I/usr/local/lib/python3.7/dist-packages/torch/include/torch/csrc/api/include -I/usr/local/lib/python3.7/dist-packages/torch/include/TH -I/usr/local/lib/python3.7/dist-packages/torch/include/THC -I/usr/local/cuda/include -I/usr/include/python3.7m -c -c '/content/drive/MyDrive/Grade 4-2/VIP Senior Design 2/AMP ML Team/2022 Spring/LiDAR_RCNN/src/LiDAR_RCNN/ops/iou3d/src/iou3d.cpp' -o '/content/drive/MyDrive/Grade 4-2/VIP Senior Design 2/AMP ML Team/2022 Spring/LiDAR_RCNN/src/LiDAR_RCNN/ops/iou3d/build/temp.linux-x86_64-3.7/src/iou3d.o' -g '-I /usr/local/cuda/include' -DTORCH_API_INCLUDE_EXTENSION_H '-DPYBIND11_COMPILER_TYPE=\"_gcc\"' '-DPYBIND11_STDLIB=\"_libstdcpp\"' '-DPYBIND11_BUILD_ABI=\"_cxxabi1011\"' -DTORCH_EXTENSION_NAME=iou3d_cuda -D_GLIBCXX_USE_CXX11_ABI=0 -std=c++14\n",
            "/content/drive/MyDrive/Grade 4-2/VIP Senior Design 2/AMP ML Team/2022 Spring/LiDAR_RCNN/src/LiDAR_RCNN/ops/iou3d/src/iou3d.cpp: In function ‘int boxes_overlap_bev_gpu(at::Tensor, at::Tensor, at::Tensor)’:\n",
            "/content/drive/MyDrive/Grade 4-2/VIP Senior Design 2/AMP ML Team/2022 Spring/LiDAR_RCNN/src/LiDAR_RCNN/ops/iou3d/src/iou3d.cpp:15:15: warning: ‘at::DeprecatedTypeProperties& at::Tensor::type() const’ is deprecated: Tensor.type() is deprecated. Instead use Tensor.options(), which in many cases (e.g. in a constructor) is a drop-in replacement. If you were using data from type(), that is now available from Tensor itself, so instead of tensor.type().scalar_type(), use tensor.scalar_type() instead and instead of tensor.type().backend() use tensor.device(). [-Wdeprecated-declarations]\n",
            "   if (!x.type().is_cuda()) { \\\n",
            "               ^\n",
            "/content/drive/MyDrive/Grade 4-2/VIP Senior Design 2/AMP ML Team/2022 Spring/LiDAR_RCNN/src/LiDAR_RCNN/ops/iou3d/src/iou3d.cpp:26:24: note: in expansion of macro ‘CHECK_CUDA’\n",
            " #define CHECK_INPUT(x) CHECK_CUDA(x);CHECK_CONTIGUOUS(x)\n",
            "                        ^~~~~~~~~~\n",
            "/content/drive/MyDrive/Grade 4-2/VIP Senior Design 2/AMP ML Team/2022 Spring/LiDAR_RCNN/src/LiDAR_RCNN/ops/iou3d/src/iou3d.cpp:48:5: note: in expansion of macro ‘CHECK_INPUT’\n",
            "     CHECK_INPUT(boxes_a);\n",
            "     ^\n",
            "In file included from /usr/local/lib/python3.7/dist-packages/torch/include/ATen/Tensor.h:3:0,\n",
            "                 from /usr/local/lib/python3.7/dist-packages/torch/include/ATen/Context.h:4,\n",
            "                 from /usr/local/lib/python3.7/dist-packages/torch/include/ATen/ATen.h:9,\n",
            "                 from /usr/local/lib/python3.7/dist-packages/torch/include/torch/csrc/api/include/torch/types.h:3,\n",
            "                 from /usr/local/lib/python3.7/dist-packages/torch/include/torch/csrc/api/include/torch/serialize/input-archive.h:6,\n",
            "                 from /usr/local/lib/python3.7/dist-packages/torch/include/torch/csrc/api/include/torch/serialize/archive.h:3,\n",
            "                 from /usr/local/lib/python3.7/dist-packages/torch/include/torch/csrc/api/include/torch/serialize/tensor.h:3,\n",
            "                 from /content/drive/MyDrive/Grade 4-2/VIP Senior Design 2/AMP ML Team/2022 Spring/LiDAR_RCNN/src/LiDAR_RCNN/ops/iou3d/src/iou3d.cpp:7:\n",
            "/usr/local/lib/python3.7/dist-packages/torch/include/ATen/core/TensorBody.h:194:30: note: declared here\n",
            "   DeprecatedTypeProperties & type() const {\n",
            "                              ^~~~\n",
            "/content/drive/MyDrive/Grade 4-2/VIP Senior Design 2/AMP ML Team/2022 Spring/LiDAR_RCNN/src/LiDAR_RCNN/ops/iou3d/src/iou3d.cpp:15:15: warning: ‘at::DeprecatedTypeProperties& at::Tensor::type() const’ is deprecated: Tensor.type() is deprecated. Instead use Tensor.options(), which in many cases (e.g. in a constructor) is a drop-in replacement. If you were using data from type(), that is now available from Tensor itself, so instead of tensor.type().scalar_type(), use tensor.scalar_type() instead and instead of tensor.type().backend() use tensor.device(). [-Wdeprecated-declarations]\n",
            "   if (!x.type().is_cuda()) { \\\n",
            "               ^\n",
            "/content/drive/MyDrive/Grade 4-2/VIP Senior Design 2/AMP ML Team/2022 Spring/LiDAR_RCNN/src/LiDAR_RCNN/ops/iou3d/src/iou3d.cpp:26:24: note: in expansion of macro ‘CHECK_CUDA’\n",
            " #define CHECK_INPUT(x) CHECK_CUDA(x);CHECK_CONTIGUOUS(x)\n",
            "                        ^~~~~~~~~~\n",
            "/content/drive/MyDrive/Grade 4-2/VIP Senior Design 2/AMP ML Team/2022 Spring/LiDAR_RCNN/src/LiDAR_RCNN/ops/iou3d/src/iou3d.cpp:49:5: note: in expansion of macro ‘CHECK_INPUT’\n",
            "     CHECK_INPUT(boxes_b);\n",
            "     ^\n",
            "In file included from /usr/local/lib/python3.7/dist-packages/torch/include/ATen/Tensor.h:3:0,\n",
            "                 from /usr/local/lib/python3.7/dist-packages/torch/include/ATen/Context.h:4,\n",
            "                 from /usr/local/lib/python3.7/dist-packages/torch/include/ATen/ATen.h:9,\n",
            "                 from /usr/local/lib/python3.7/dist-packages/torch/include/torch/csrc/api/include/torch/types.h:3,\n",
            "                 from /usr/local/lib/python3.7/dist-packages/torch/include/torch/csrc/api/include/torch/serialize/input-archive.h:6,\n",
            "                 from /usr/local/lib/python3.7/dist-packages/torch/include/torch/csrc/api/include/torch/serialize/archive.h:3,\n",
            "                 from /usr/local/lib/python3.7/dist-packages/torch/include/torch/csrc/api/include/torch/serialize/tensor.h:3,\n",
            "                 from /content/drive/MyDrive/Grade 4-2/VIP Senior Design 2/AMP ML Team/2022 Spring/LiDAR_RCNN/src/LiDAR_RCNN/ops/iou3d/src/iou3d.cpp:7:\n",
            "/usr/local/lib/python3.7/dist-packages/torch/include/ATen/core/TensorBody.h:194:30: note: declared here\n",
            "   DeprecatedTypeProperties & type() const {\n",
            "                              ^~~~\n",
            "/content/drive/MyDrive/Grade 4-2/VIP Senior Design 2/AMP ML Team/2022 Spring/LiDAR_RCNN/src/LiDAR_RCNN/ops/iou3d/src/iou3d.cpp:15:15: warning: ‘at::DeprecatedTypeProperties& at::Tensor::type() const’ is deprecated: Tensor.type() is deprecated. Instead use Tensor.options(), which in many cases (e.g. in a constructor) is a drop-in replacement. If you were using data from type(), that is now available from Tensor itself, so instead of tensor.type().scalar_type(), use tensor.scalar_type() instead and instead of tensor.type().backend() use tensor.device(). [-Wdeprecated-declarations]\n",
            "   if (!x.type().is_cuda()) { \\\n",
            "               ^\n",
            "/content/drive/MyDrive/Grade 4-2/VIP Senior Design 2/AMP ML Team/2022 Spring/LiDAR_RCNN/src/LiDAR_RCNN/ops/iou3d/src/iou3d.cpp:26:24: note: in expansion of macro ‘CHECK_CUDA’\n",
            " #define CHECK_INPUT(x) CHECK_CUDA(x);CHECK_CONTIGUOUS(x)\n",
            "                        ^~~~~~~~~~\n",
            "/content/drive/MyDrive/Grade 4-2/VIP Senior Design 2/AMP ML Team/2022 Spring/LiDAR_RCNN/src/LiDAR_RCNN/ops/iou3d/src/iou3d.cpp:50:5: note: in expansion of macro ‘CHECK_INPUT’\n",
            "     CHECK_INPUT(ans_overlap);\n",
            "     ^\n",
            "In file included from /usr/local/lib/python3.7/dist-packages/torch/include/ATen/Tensor.h:3:0,\n",
            "                 from /usr/local/lib/python3.7/dist-packages/torch/include/ATen/Context.h:4,\n",
            "                 from /usr/local/lib/python3.7/dist-packages/torch/include/ATen/ATen.h:9,\n",
            "                 from /usr/local/lib/python3.7/dist-packages/torch/include/torch/csrc/api/include/torch/types.h:3,\n",
            "                 from /usr/local/lib/python3.7/dist-packages/torch/include/torch/csrc/api/include/torch/serialize/input-archive.h:6,\n",
            "                 from /usr/local/lib/python3.7/dist-packages/torch/include/torch/csrc/api/include/torch/serialize/archive.h:3,\n",
            "                 from /usr/local/lib/python3.7/dist-packages/torch/include/torch/csrc/api/include/torch/serialize/tensor.h:3,\n",
            "                 from /content/drive/MyDrive/Grade 4-2/VIP Senior Design 2/AMP ML Team/2022 Spring/LiDAR_RCNN/src/LiDAR_RCNN/ops/iou3d/src/iou3d.cpp:7:\n",
            "/usr/local/lib/python3.7/dist-packages/torch/include/ATen/core/TensorBody.h:194:30: note: declared here\n",
            "   DeprecatedTypeProperties & type() const {\n",
            "                              ^~~~\n",
            "/content/drive/MyDrive/Grade 4-2/VIP Senior Design 2/AMP ML Team/2022 Spring/LiDAR_RCNN/src/LiDAR_RCNN/ops/iou3d/src/iou3d.cpp:54:54: warning: ‘T* at::Tensor::data() const [with T = float]’ is deprecated: Tensor.data<T>() is deprecated. Please use Tensor.data_ptr<T>() instead. [-Wdeprecated-declarations]\n",
            "     const float * boxes_a_data = boxes_a.data<float>();\n",
            "                                                      ^\n",
            "In file included from /usr/local/lib/python3.7/dist-packages/torch/include/ATen/Tensor.h:3:0,\n",
            "                 from /usr/local/lib/python3.7/dist-packages/torch/include/ATen/Context.h:4,\n",
            "                 from /usr/local/lib/python3.7/dist-packages/torch/include/ATen/ATen.h:9,\n",
            "                 from /usr/local/lib/python3.7/dist-packages/torch/include/torch/csrc/api/include/torch/types.h:3,\n",
            "                 from /usr/local/lib/python3.7/dist-packages/torch/include/torch/csrc/api/include/torch/serialize/input-archive.h:6,\n",
            "                 from /usr/local/lib/python3.7/dist-packages/torch/include/torch/csrc/api/include/torch/serialize/archive.h:3,\n",
            "                 from /usr/local/lib/python3.7/dist-packages/torch/include/torch/csrc/api/include/torch/serialize/tensor.h:3,\n",
            "                 from /content/drive/MyDrive/Grade 4-2/VIP Senior Design 2/AMP ML Team/2022 Spring/LiDAR_RCNN/src/LiDAR_RCNN/ops/iou3d/src/iou3d.cpp:7:\n",
            "/usr/local/lib/python3.7/dist-packages/torch/include/ATen/core/TensorBody.h:216:7: note: declared here\n",
            "   T * data() const {\n",
            "       ^~~~\n",
            "/content/drive/MyDrive/Grade 4-2/VIP Senior Design 2/AMP ML Team/2022 Spring/LiDAR_RCNN/src/LiDAR_RCNN/ops/iou3d/src/iou3d.cpp:55:54: warning: ‘T* at::Tensor::data() const [with T = float]’ is deprecated: Tensor.data<T>() is deprecated. Please use Tensor.data_ptr<T>() instead. [-Wdeprecated-declarations]\n",
            "     const float * boxes_b_data = boxes_b.data<float>();\n",
            "                                                      ^\n",
            "In file included from /usr/local/lib/python3.7/dist-packages/torch/include/ATen/Tensor.h:3:0,\n",
            "                 from /usr/local/lib/python3.7/dist-packages/torch/include/ATen/Context.h:4,\n",
            "                 from /usr/local/lib/python3.7/dist-packages/torch/include/ATen/ATen.h:9,\n",
            "                 from /usr/local/lib/python3.7/dist-packages/torch/include/torch/csrc/api/include/torch/types.h:3,\n",
            "                 from /usr/local/lib/python3.7/dist-packages/torch/include/torch/csrc/api/include/torch/serialize/input-archive.h:6,\n",
            "                 from /usr/local/lib/python3.7/dist-packages/torch/include/torch/csrc/api/include/torch/serialize/archive.h:3,\n",
            "                 from /usr/local/lib/python3.7/dist-packages/torch/include/torch/csrc/api/include/torch/serialize/tensor.h:3,\n",
            "                 from /content/drive/MyDrive/Grade 4-2/VIP Senior Design 2/AMP ML Team/2022 Spring/LiDAR_RCNN/src/LiDAR_RCNN/ops/iou3d/src/iou3d.cpp:7:\n",
            "/usr/local/lib/python3.7/dist-packages/torch/include/ATen/core/TensorBody.h:216:7: note: declared here\n",
            "   T * data() const {\n",
            "       ^~~~\n",
            "/content/drive/MyDrive/Grade 4-2/VIP Senior Design 2/AMP ML Team/2022 Spring/LiDAR_RCNN/src/LiDAR_RCNN/ops/iou3d/src/iou3d.cpp:56:56: warning: ‘T* at::Tensor::data() const [with T = float]’ is deprecated: Tensor.data<T>() is deprecated. Please use Tensor.data_ptr<T>() instead. [-Wdeprecated-declarations]\n",
            "     float * ans_overlap_data = ans_overlap.data<float>();\n",
            "                                                        ^\n",
            "In file included from /usr/local/lib/python3.7/dist-packages/torch/include/ATen/Tensor.h:3:0,\n",
            "                 from /usr/local/lib/python3.7/dist-packages/torch/include/ATen/Context.h:4,\n",
            "                 from /usr/local/lib/python3.7/dist-packages/torch/include/ATen/ATen.h:9,\n",
            "                 from /usr/local/lib/python3.7/dist-packages/torch/include/torch/csrc/api/include/torch/types.h:3,\n",
            "                 from /usr/local/lib/python3.7/dist-packages/torch/include/torch/csrc/api/include/torch/serialize/input-archive.h:6,\n",
            "                 from /usr/local/lib/python3.7/dist-packages/torch/include/torch/csrc/api/include/torch/serialize/archive.h:3,\n",
            "                 from /usr/local/lib/python3.7/dist-packages/torch/include/torch/csrc/api/include/torch/serialize/tensor.h:3,\n",
            "                 from /content/drive/MyDrive/Grade 4-2/VIP Senior Design 2/AMP ML Team/2022 Spring/LiDAR_RCNN/src/LiDAR_RCNN/ops/iou3d/src/iou3d.cpp:7:\n",
            "/usr/local/lib/python3.7/dist-packages/torch/include/ATen/core/TensorBody.h:216:7: note: declared here\n",
            "   T * data() const {\n",
            "       ^~~~\n",
            "[3/3] c++ -MMD -MF '/content/drive/MyDrive/Grade 4-2/VIP Senior Design 2/AMP ML Team/2022 Spring/LiDAR_RCNN/src/LiDAR_RCNN/ops/iou3d/build/temp.linux-x86_64-3.7/src/iou3d_api.o'.d -pthread -Wno-unused-result -Wsign-compare -DNDEBUG -g -fwrapv -O2 -Wall -g -fdebug-prefix-map=/build/python3.7-dIfpci/python3.7-3.7.13=. -fstack-protector-strong -Wformat -Werror=format-security -g -fdebug-prefix-map=/build/python3.7-dIfpci/python3.7-3.7.13=. -fstack-protector-strong -Wformat -Werror=format-security -Wdate-time -D_FORTIFY_SOURCE=2 -fPIC -I/usr/local/lib/python3.7/dist-packages/torch/include -I/usr/local/lib/python3.7/dist-packages/torch/include/torch/csrc/api/include -I/usr/local/lib/python3.7/dist-packages/torch/include/TH -I/usr/local/lib/python3.7/dist-packages/torch/include/THC -I/usr/local/cuda/include -I/usr/include/python3.7m -c -c '/content/drive/MyDrive/Grade 4-2/VIP Senior Design 2/AMP ML Team/2022 Spring/LiDAR_RCNN/src/LiDAR_RCNN/ops/iou3d/src/iou3d_api.cpp' -o '/content/drive/MyDrive/Grade 4-2/VIP Senior Design 2/AMP ML Team/2022 Spring/LiDAR_RCNN/src/LiDAR_RCNN/ops/iou3d/build/temp.linux-x86_64-3.7/src/iou3d_api.o' -g '-I /usr/local/cuda/include' -DTORCH_API_INCLUDE_EXTENSION_H '-DPYBIND11_COMPILER_TYPE=\"_gcc\"' '-DPYBIND11_STDLIB=\"_libstdcpp\"' '-DPYBIND11_BUILD_ABI=\"_cxxabi1011\"' -DTORCH_EXTENSION_NAME=iou3d_cuda -D_GLIBCXX_USE_CXX11_ABI=0 -std=c++14\n",
            "creating build/lib.linux-x86_64-3.7\n",
            "x86_64-linux-gnu-g++ -pthread -shared -Wl,-O1 -Wl,-Bsymbolic-functions -Wl,-Bsymbolic-functions -Wl,-z,relro -Wl,-Bsymbolic-functions -Wl,-z,relro -g -fdebug-prefix-map=/build/python3.7-dIfpci/python3.7-3.7.13=. -fstack-protector-strong -Wformat -Werror=format-security -Wdate-time -D_FORTIFY_SOURCE=2 /content/drive/MyDrive/Grade 4-2/VIP Senior Design 2/AMP ML Team/2022 Spring/LiDAR_RCNN/src/LiDAR_RCNN/ops/iou3d/build/temp.linux-x86_64-3.7/src/iou3d_api.o /content/drive/MyDrive/Grade 4-2/VIP Senior Design 2/AMP ML Team/2022 Spring/LiDAR_RCNN/src/LiDAR_RCNN/ops/iou3d/build/temp.linux-x86_64-3.7/src/iou3d.o /content/drive/MyDrive/Grade 4-2/VIP Senior Design 2/AMP ML Team/2022 Spring/LiDAR_RCNN/src/LiDAR_RCNN/ops/iou3d/build/temp.linux-x86_64-3.7/src/iou3d_kernel.o -L/usr/local/lib/python3.7/dist-packages/torch/lib -L/usr/local/cuda/lib64 -lc10 -ltorch -ltorch_cpu -ltorch_python -lcudart -lc10_cuda -ltorch_cuda_cu -ltorch_cuda_cpp -o build/lib.linux-x86_64-3.7/iou3d_cuda.cpython-37m-x86_64-linux-gnu.so\n",
            "copying build/lib.linux-x86_64-3.7/iou3d_cuda.cpython-37m-x86_64-linux-gnu.so -> \n"
          ]
        }
      ]
    },
    {
      "cell_type": "code",
      "source": [
        "%cd .."
      ],
      "metadata": {
        "colab": {
          "base_uri": "https://localhost:8080/"
        },
        "id": "Koh7ZJut_me7",
        "outputId": "7bd22293-4727-46a2-925f-ecfb01ea1513"
      },
      "execution_count": null,
      "outputs": [
        {
          "output_type": "stream",
          "name": "stdout",
          "text": [
            "/content/drive/MyDrive/Grade 4-2/VIP Senior Design 2/AMP ML Team/2022 Spring/LiDAR_RCNN/src/LiDAR_RCNN/ops\n"
          ]
        }
      ]
    },
    {
      "cell_type": "code",
      "source": [
        "%cd .."
      ],
      "metadata": {
        "colab": {
          "base_uri": "https://localhost:8080/"
        },
        "id": "94Q2khqQ_rVw",
        "outputId": "bb68929b-4b97-472e-d599-4c1407a22610"
      },
      "execution_count": null,
      "outputs": [
        {
          "output_type": "stream",
          "name": "stdout",
          "text": [
            "/content/drive/MyDrive/Grade 4-2/VIP Senior Design 2/AMP ML Team/2022 Spring/LiDAR_RCNN/src/LiDAR_RCNN\n"
          ]
        }
      ]
    },
    {
      "cell_type": "code",
      "source": [
        "%cd .."
      ],
      "metadata": {
        "colab": {
          "base_uri": "https://localhost:8080/"
        },
        "id": "kjMExRBg_skB",
        "outputId": "5809619a-273f-4965-ba34-c31e7df29b2e"
      },
      "execution_count": null,
      "outputs": [
        {
          "output_type": "stream",
          "name": "stdout",
          "text": [
            "/content/drive/MyDrive/Grade 4-2/VIP Senior Design 2/AMP ML Team/2022 Spring/LiDAR_RCNN/src\n"
          ]
        }
      ]
    },
    {
      "cell_type": "code",
      "source": [
        "%cd .."
      ],
      "metadata": {
        "colab": {
          "base_uri": "https://localhost:8080/"
        },
        "id": "fxTJ02J1_wyP",
        "outputId": "6138989d-ad19-4e7c-87bb-33369d35f44d"
      },
      "execution_count": null,
      "outputs": [
        {
          "output_type": "stream",
          "name": "stdout",
          "text": [
            "/content/drive/MyDrive/Grade 4-2/VIP Senior Design 2/AMP ML Team/2022 Spring/LiDAR_RCNN\n"
          ]
        }
      ]
    },
    {
      "cell_type": "code",
      "source": [
        "%cd tools/data_processer/\n",
        "CUDA_VISIBLE_DEVICES='' python3 tfrecord_parser.py --data_folder /your/path/to/tfrecord --output_folder /your/path/to/save/processed_data --process 20"
      ],
      "metadata": {
        "colab": {
          "base_uri": "https://localhost:8080/",
          "height": 149
        },
        "id": "UcBLT2gt9D33",
        "outputId": "00f5f9d9-46bb-4f54-b9a4-b51941c8bdc2"
      },
      "execution_count": null,
      "outputs": [
        {
          "output_type": "error",
          "ename": "SyntaxError",
          "evalue": "ignored",
          "traceback": [
            "\u001b[0;36m  File \u001b[0;32m\"<ipython-input-25-f8a9d755b53c>\"\u001b[0;36m, line \u001b[0;32m2\u001b[0m\n\u001b[0;31m    CUDA_VISIBLE_DEVICES='' python3 tfrecord_parser.py --data_folder /your/path/to/tfrecord --output_folder /your/path/to/save/processed_data --process 20\u001b[0m\n\u001b[0m                                  ^\u001b[0m\n\u001b[0;31mSyntaxError\u001b[0m\u001b[0;31m:\u001b[0m invalid syntax\n"
          ]
        }
      ]
    }
  ]
}